{
 "cells": [
  {
   "cell_type": "markdown",
   "id": "474d6ed2-3d3b-411f-a766-8197ef7aabe9",
   "metadata": {},
   "source": [
    "17. 이미지 검출 ( 경계선 )"
   ]
  },
  {
   "cell_type": "markdown",
   "id": "f088df66-c209-439f-8d1d-9f3622d803e0",
   "metadata": {},
   "source": [
    "## Canny Edge Detection"
   ]
  },
  {
   "cell_type": "code",
   "execution_count": 3,
   "id": "ceb14c56-f41b-4c6f-961f-c89cad411bdd",
   "metadata": {},
   "outputs": [],
   "source": [
    "import cv2\n",
    "img = cv2.imread(\"snowman.png\")\n",
    "\n",
    "canny = cv2.Canny(img, 150, 200)\n",
    "#대상 이미지, min value ( 하위 임계값 ) , max value ( 상위 임계값 )\n",
    "\n",
    "cv2.imshow('img',img)\n",
    "cv2.imshow('canny', canny)\n",
    "cv2.waitKey(0)\n",
    "cv2.destroyAllWindows()"
   ]
  },
  {
   "cell_type": "code",
   "execution_count": 5,
   "id": "7329f419-e378-481a-b42a-6ff00fc2077e",
   "metadata": {},
   "outputs": [],
   "source": [
    "import cv2\n",
    "\n",
    "def empty(pos) : \n",
    "    pass\n",
    "img = cv2.imread(\"snowman.png\")\n",
    "\n",
    "name = 'Trackbar'\n",
    "cv2.namedWindow(name)\n",
    "cv2.createTrackbar('threshold1', name, 0, 255, empty) #minVal\n",
    "cv2.createTrackbar('threshold2', name, 0, 255, empty) #maxVal\n",
    "\n",
    "while True : \n",
    "    threshold1 = cv2.getTrackbarPos('threshold1', name)\n",
    "    threshold2 = cv2.getTrackbarPos('threshold2', name)\n",
    "\n",
    "    canny = cv2.Canny(img, threshold1, threshold2)\n",
    "#대상 이미지, min value ( 하위 임계값 ) , max value ( 상위 임계값 )\n",
    "\n",
    "    cv2.imshow('img',img)\n",
    "    cv2.imshow(name, canny)\n",
    "\n",
    "    if cv2.waitKey(1) == ord('q') :\n",
    "        break\n",
    "        \n",
    "cv2.waitKey(0)\n",
    "cv2.destroyAllWindows()"
   ]
  }
 ],
 "metadata": {
  "kernelspec": {
   "display_name": "Python 3 (ipykernel)",
   "language": "python",
   "name": "python3"
  },
  "language_info": {
   "codemirror_mode": {
    "name": "ipython",
    "version": 3
   },
   "file_extension": ".py",
   "mimetype": "text/x-python",
   "name": "python",
   "nbconvert_exporter": "python",
   "pygments_lexer": "ipython3",
   "version": "3.12.4"
  }
 },
 "nbformat": 4,
 "nbformat_minor": 5
}
