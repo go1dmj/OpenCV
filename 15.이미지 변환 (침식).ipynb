{
 "cells": [
  {
   "cell_type": "markdown",
   "id": "d08764a3-24e9-4b03-8603-12fbfec4cd0a",
   "metadata": {},
   "source": [
    "15. 이미지 변환 ( 침식 )"
   ]
  },
  {
   "cell_type": "markdown",
   "id": "2dbf7476-7e19-4bd8-bcbe-5ae379f2386c",
   "metadata": {},
   "source": [
    "##이미지를 깎아서 노이즈 제거\n",
    "\n",
    "흰색 영역의 외곽 픽셀을 검은색으로 변환"
   ]
  },
  {
   "cell_type": "code",
   "execution_count": 3,
   "id": "ae6910e8-d240-4d85-9865-b20e35d7fdca",
   "metadata": {},
   "outputs": [],
   "source": [
    "import cv2\n",
    "import numpy as np\n",
    "kernel = np.ones((3,3), dtype = np.uint8)\n",
    "\n",
    "img = cv2.imread('erode.png', cv2.IMREAD_GRAYSCALE)\n",
    "erode1 = cv2.erode(img, kernel, iterations = 1)\n",
    "erode2 = cv2.erode(img, kernel, iterations = 2)\n",
    "erode3 = cv2.erode(img, kernel, iterations = 3)\n",
    "\n",
    "cv2.imshow('gray', img)\n",
    "cv2.imshow('erode1', erode1)\n",
    "cv2.imshow('erode2', erode2)\n",
    "cv2.imshow('erode3', erode3)\n",
    "cv2.waitKey(0)\n",
    "cv2.destroyAllWindows()"
   ]
  }
 ],
 "metadata": {
  "kernelspec": {
   "display_name": "Python 3 (ipykernel)",
   "language": "python",
   "name": "python3"
  },
  "language_info": {
   "codemirror_mode": {
    "name": "ipython",
    "version": 3
   },
   "file_extension": ".py",
   "mimetype": "text/x-python",
   "name": "python",
   "nbconvert_exporter": "python",
   "pygments_lexer": "ipython3",
   "version": "3.12.4"
  }
 },
 "nbformat": 4,
 "nbformat_minor": 5
}
