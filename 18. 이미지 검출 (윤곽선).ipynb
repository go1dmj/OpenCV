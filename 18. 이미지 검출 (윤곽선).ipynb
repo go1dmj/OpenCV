{
 "cells": [
  {
   "cell_type": "markdown",
   "id": "917bf5d6-c570-4d0a-b95f-3d564f6cde5a",
   "metadata": {},
   "source": [
    "# 18. 이미지 검출 (윤곽선)"
   ]
  },
  {
   "cell_type": "markdown",
   "id": "50b3dc7c-1420-4925-b231-69f8e034d767",
   "metadata": {},
   "source": [
    "## 윤곽선(Contour) : 경계썬을 연결한 선"
   ]
  },
  {
   "cell_type": "code",
   "execution_count": 2,
   "id": "5779b2b8-7bb7-43fc-b262-e69412a53d12",
   "metadata": {},
   "outputs": [],
   "source": [
    "import cv2\n",
    "img = cv2.imread('cardd.png')\n",
    "target_img = img.copy() #사본 이미지\n",
    "\n",
    "gray = cv2.cvtColor(img, cv2.COLOR_BGR2GRAY)\n",
    "ret, otsu = cv2.threshold(gray, -1, 255, cv2.THRESH_BINARY | cv2.THRESH_OTSU)\n",
    "\n",
    "contours, hierarchy = cv2.findContours(otsu, cv2.RETR_LIST, cv2.CHAIN_APPROX_NONE) #윤곽선 검출\n",
    "#윤곽선 정보, 구조 = cv2.findContours(이미지, 윤곽선 찾는 모드, 윤곽선 찾을 때 사용하는 근사치 방법\n",
    "\n",
    "COLOR = (0, 200, 0) #녹색\n",
    "cv2.drawContours(target_img, contours, -1, COLOR, 2) #윤곽선 그리기\n",
    "#대상 이미지, 윤곽선 정보, 인덱스,(-1은 전체), 색깔, 두께\n",
    "\n",
    "cv2.imshow('img', img)\n",
    "cv2.imshow('gray', gray)\n",
    "cv2.imshow('otsu', otsu)\n",
    "cv2.imshow('contour', target_img)\n",
    "\n",
    "cv2.imshow('img', img)\n",
    "cv2.waitKey(0)\n",
    "cv2.destroyAllWindows()"
   ]
  },
  {
   "cell_type": "markdown",
   "id": "ebea758d-2b6d-4542-ae3e-6eb4b0678347",
   "metadata": {},
   "source": [
    "### 윤곽선 찾기 모드\n",
    "\n",
    "1. cv2.RETR_EXTERNAL : 가장 외곽의 윤곽선만 찾음\n",
    "2. cv2.RETR_LIST : 모든 윤곽선 찾음 (계층 정보 없음)\n",
    "3. cv2.RETR_TREE : 모든 윤곽선 찾음 (계층 정보를 트리 구조로 생성)"
   ]
  },
  {
   "cell_type": "code",
   "execution_count": 3,
   "id": "9fd18059-8100-466c-b483-513aa2210016",
   "metadata": {},
   "outputs": [],
   "source": [
    "import cv2\n",
    "img = cv2.imread('cardd.png')\n",
    "target_img = img.copy() #사본 이미지\n",
    "\n",
    "gray = cv2.cvtColor(img, cv2.COLOR_BGR2GRAY)\n",
    "ret, otsu = cv2.threshold(gray, -1, 255, cv2.THRESH_BINARY | cv2.THRESH_OTSU)\n",
    "\n",
    "contours, hierarchy = cv2.findContours(otsu, cv2.RETR_EXTERNAL, cv2.CHAIN_APPROX_NONE) #윤곽선 검출\n",
    "#윤곽선 정보, 구조 = cv2.findContours(이미지, 윤곽선 찾는 모드, 윤곽선 찾을 때 사용하는 근사치 방법 : CHAIN_APPROX_NONE, CHAIN_APPROX_SIMPLE\n",
    "\n",
    "COLOR = (0, 200, 0) #녹색\n",
    "cv2.drawContours(target_img, contours, -1, COLOR, 2) #윤곽선 그리기\n",
    "#대상 이미지, 윤곽선 정보, 인덱스,(-1은 전체), 색깔, 두께\n",
    "\n",
    "\n",
    "cv2.imshow('contour', target_img)\n",
    "\n",
    "cv2.imshow('img', img)\n",
    "cv2.waitKey(0)\n",
    "cv2.destroyAllWindows()"
   ]
  },
  {
   "cell_type": "markdown",
   "id": "323eae77-4db9-4e31-8b77-a225a0a0ce43",
   "metadata": {},
   "source": [
    "## 경계 사각형\n",
    "윤곽선의 경계면을 둘러싸는 사각형\n",
    "> boundingRect()"
   ]
  },
  {
   "cell_type": "code",
   "execution_count": 1,
   "id": "ede1a6c8-b393-4c05-a7b6-18611f4334bf",
   "metadata": {},
   "outputs": [],
   "source": [
    "import cv2\n",
    "img = cv2.imread('cardd.png')\n",
    "target_img = img.copy() #사본 이미지\n",
    "\n",
    "gray = cv2.cvtColor(img, cv2.COLOR_BGR2GRAY)\n",
    "ret, otsu = cv2.threshold(gray, -1, 255, cv2.THRESH_BINARY | cv2.THRESH_OTSU)\n",
    "contours, hierarchy = cv2.findContours(otsu, cv2.RETR_LIST, cv2.CHAIN_APPROX_NONE) \n",
    "\n",
    "COLOR = (0, 200, 0) #녹색\n",
    "\n",
    "for cnt in contours : \n",
    "    x, y, width, height = cv2.boundingRect(cnt)\n",
    "    cv2.rectangle(target_img, (x,y), (x+width,y+height), COLOR, 2) #사각형 그림\n",
    "\n",
    "cv2.imshow('contour', target_img)\n",
    "cv2.imshow('img', img)\n",
    "cv2.waitKey(0)\n",
    "cv2.destroyAllWindows()"
   ]
  },
  {
   "cell_type": "markdown",
   "id": "8b055dfc-d291-4e8e-b199-7df63cde9680",
   "metadata": {},
   "source": [
    "## 면적\n",
    ">contourArea()"
   ]
  },
  {
   "cell_type": "code",
   "execution_count": 3,
   "id": "522aafad-e26d-406f-aa8a-5003770a8a19",
   "metadata": {},
   "outputs": [],
   "source": [
    "import cv2\n",
    "img = cv2.imread('cardd.png')\n",
    "target_img = img.copy() #사본 이미지\n",
    "\n",
    "gray = cv2.cvtColor(img, cv2.COLOR_BGR2GRAY)\n",
    "ret, otsu = cv2.threshold(gray, -1, 255, cv2.THRESH_BINARY | cv2.THRESH_OTSU)\n",
    "contours, hierarchy = cv2.findContours(otsu, cv2.RETR_LIST, cv2.CHAIN_APPROX_NONE) \n",
    "\n",
    "COLOR = (0, 200, 0) #녹색\n",
    "\n",
    "for cnt in contours : \n",
    "    if cv2.contourArea(cnt) > 25000 : \n",
    "        x, y, width, height = cv2.boundingRect(cnt)\n",
    "        cv2.rectangle(target_img, (x,y), (x+width,y+height), COLOR, 2)\n",
    "        \n",
    "cv2.imshow('contour', target_img)\n",
    "cv2.imshow('img', img)\n",
    "cv2.waitKey(0)\n",
    "cv2.destroyAllWindows()"
   ]
  },
  {
   "cell_type": "markdown",
   "id": "ac323d7f-29e6-4206-9873-1523eac4057f",
   "metadata": {},
   "source": [
    "### 미니 프로젝트 : 개별 카드 추출해서 파일 저장"
   ]
  },
  {
   "cell_type": "code",
   "execution_count": 4,
   "id": "c14072f2-0e9f-4598-a11a-80c2148a5f78",
   "metadata": {},
   "outputs": [],
   "source": [
    "import cv2\n",
    "img = cv2.imread('cardd.png')\n",
    "target_img = img.copy() #사본 이미지\n",
    "\n",
    "gray = cv2.cvtColor(img, cv2.COLOR_BGR2GRAY)\n",
    "ret, otsu = cv2.threshold(gray, -1, 255, cv2.THRESH_BINARY | cv2.THRESH_OTSU)\n",
    "contours, hierarchy = cv2.findContours(otsu, cv2.RETR_LIST, cv2.CHAIN_APPROX_NONE) \n",
    "\n",
    "COLOR = (0, 200, 0) #녹색\n",
    "\n",
    "idx = 1\n",
    "for cnt in contours : \n",
    "    if cv2.contourArea(cnt) > 25000 : \n",
    "        x, y, width, height = cv2.boundingRect(cnt)\n",
    "        cv2.rectangle(target_img, (x,y), (x+width,y+height), COLOR, 2)\n",
    "\n",
    "        crop = img[y:y+height, x: x+width]\n",
    "        cv2.imshow(f'card_crop_{idx}', crop)\n",
    "        cv2.imwrite(f'card_crop_{idx}.png', crop)\n",
    "        idx += 1\n",
    "        \n",
    "cv2.imshow('contour', target_img)\n",
    "cv2.imshow('img', img)\n",
    "cv2.waitKey(0)\n",
    "cv2.destroyAllWindows()"
   ]
  }
 ],
 "metadata": {
  "kernelspec": {
   "display_name": "Python 3 (ipykernel)",
   "language": "python",
   "name": "python3"
  },
  "language_info": {
   "codemirror_mode": {
    "name": "ipython",
    "version": 3
   },
   "file_extension": ".py",
   "mimetype": "text/x-python",
   "name": "python",
   "nbconvert_exporter": "python",
   "pygments_lexer": "ipython3",
   "version": "3.12.4"
  }
 },
 "nbformat": 4,
 "nbformat_minor": 5
}
