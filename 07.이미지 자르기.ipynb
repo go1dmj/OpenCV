{
 "cells": [
  {
   "cell_type": "markdown",
   "id": "0736450a-38a2-4d1a-9122-0a5934730eee",
   "metadata": {},
   "source": [
    "#7. 이미지 자르기"
   ]
  },
  {
   "cell_type": "markdown",
   "id": "831b7376-5123-4ed2-9f74-e30f12541ed3",
   "metadata": {},
   "source": [
    "영역을 잘라서 새로운 윈도우(창)에 표시"
   ]
  },
  {
   "cell_type": "code",
   "execution_count": 4,
   "id": "d6a4b9b5-1666-4f99-852c-e456c06e5ec4",
   "metadata": {},
   "outputs": [],
   "source": [
    "import cv2\n",
    "img = cv2.imread('img.jpg')\n",
    "#img.shape # 크기 확인 (640, 427, 3)\n",
    "\n",
    "crop = img[100:200, 200:400] #세로 기준 100 : 200 까지, 가로 기준 300 : 400 까지 자름\n",
    "\n",
    "cv2.imshow('img',img) # 원본 이미지\n",
    "cv2.imshow('crop', crop) # 잘린 이미지\n",
    "cv2.waitKey(0)\n",
    "cv2.destroyAllWindows()"
   ]
  },
  {
   "cell_type": "markdown",
   "id": "c92667fb-ffb3-491f-bf97-66dd4cf56a48",
   "metadata": {},
   "source": [
    "영역을 잘라서 기존 윈도우에 표시 "
   ]
  },
  {
   "cell_type": "code",
   "execution_count": 7,
   "id": "b7468ee4-9807-47e3-9815-ce1ec5f1f3e7",
   "metadata": {},
   "outputs": [],
   "source": [
    "import cv2 \n",
    "img = cv2.imread('img.jpg')\n",
    "\n",
    "crop = img[100:200, 200:400 ]\n",
    "img[100:200, 100:300] = crop\n",
    "\n",
    "cv2.imshow('img',img) # 원본 이미지\n",
    "cv2.waitKey(0)\n",
    "cv2.destroyAllWindows()"
   ]
  }
 ],
 "metadata": {
  "kernelspec": {
   "display_name": "Python 3 (ipykernel)",
   "language": "python",
   "name": "python3"
  },
  "language_info": {
   "codemirror_mode": {
    "name": "ipython",
    "version": 3
   },
   "file_extension": ".py",
   "mimetype": "text/x-python",
   "name": "python",
   "nbconvert_exporter": "python",
   "pygments_lexer": "ipython3",
   "version": "3.12.4"
  }
 },
 "nbformat": 4,
 "nbformat_minor": 5
}
