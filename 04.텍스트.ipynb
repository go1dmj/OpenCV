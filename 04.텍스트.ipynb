{
 "cells": [
  {
   "cell_type": "markdown",
   "id": "fea4248b-600a-4639-8a94-5624691fa253",
   "metadata": {},
   "source": [
    "4. 텍스트"
   ]
  },
  {
   "cell_type": "markdown",
   "id": "70d8887c-049a-4ae6-abd3-43cc34bd4a12",
   "metadata": {},
   "source": [
    "#OpenCV에서 사용하는 글꼴 종류\n",
    "1. cv2.FONT_HERSHEY_SIMPLEX : 보통 크기의 산 세리프(sans-serif) 글꼴\n",
    "2. cv2.FONT_HERSHEY_PLAIN : 작은 크기의 산 세리프 글꼴\n",
    "3. cv2.FONT_HERSHEY_SCRIPT_SIMPLEX : 필기체 스타일 글꼴\n",
    "4. cv2.FONT_HERSHEY_TRIPLEX : 보통 크기의 세리프 글꼴\n",
    "5. cv2.FONT_ITALIC : 기울임 ( 이탤릭체 ) "
   ]
  },
  {
   "cell_type": "code",
   "execution_count": 8,
   "id": "1aad8627-dd3b-4c05-9190-9c804047415a",
   "metadata": {},
   "outputs": [],
   "source": [
    "import cv2\n",
    "import numpy as np\n",
    "\n",
    "img = np.zeros((480, 640, 3), dtype = np.uint8)\n",
    "COLOR = (255, 255, 255) #흰색\n",
    "THICKNESS = 3 #두께\n",
    "SCALE = 2 #크기\n",
    "\n",
    "cv2.putText(img, 'Nado Simplex', (20,50),cv2.FONT_HERSHEY_SIMPLEX, SCALE, COLOR, THICKNESS )\n",
    "#그릴 위치, 텍스트 내용, 시작 위치, 폰트 종류, 크기, 색깔, 두께 \n",
    "cv2.putText(img, 'Nado Plain', (20,150),cv2.FONT_HERSHEY_PLAIN, SCALE, COLOR, THICKNESS )\n",
    "cv2.putText(img, 'Nado Script Simplex', (20,250),cv2.FONT_HERSHEY_SCRIPT_SIMPLEX, SCALE, COLOR, THICKNESS )\n",
    "cv2.putText(img, 'Nado Triplex', (20,350),cv2.FONT_HERSHEY_TRIPLEX, SCALE, COLOR, THICKNESS )\n",
    "cv2.putText(img, 'Nado Triplex, Italic', (20,450),cv2.FONT_HERSHEY_TRIPLEX | cv2.FONT_ITALIC , SCALE, COLOR, THICKNESS )\n",
    "\n",
    "cv2.imshow('img', img)\n",
    "cv2.waitKey(0)\n",
    "cv2.destroyAllWindows()"
   ]
  },
  {
   "cell_type": "markdown",
   "id": "34b640bd-fbad-45a7-9727-bb3981f851f3",
   "metadata": {},
   "source": [
    "#한글"
   ]
  },
  {
   "cell_type": "code",
   "execution_count": 10,
   "id": "e4a86445-d374-4048-83da-e984e63d9f1f",
   "metadata": {},
   "outputs": [],
   "source": [
    "import cv2\n",
    "import numpy as np\n",
    "\n",
    "img = np.zeros((480, 640, 3), dtype = np.uint8)\n",
    "\n",
    "COLOR = (255, 255, 255) #흰색\n",
    "THICKNESS = 1 #두께\n",
    "SCALE = 1 #크기\n",
    "\n",
    "cv2.putText(img, '금민준', (20,50),cv2.FONT_HERSHEY_SIMPLEX, SCALE, COLOR, THICKNESS )\n",
    "\n",
    "cv2.imshow('img', img)\n",
    "cv2.waitKey(0)\n",
    "cv2.destroyAllWindows()"
   ]
  },
  {
   "cell_type": "markdown",
   "id": "acea3c48-09d6-44a4-8229-90cbf72b0ba6",
   "metadata": {},
   "source": [
    "#한글 우회 방법"
   ]
  },
  {
   "cell_type": "code",
   "execution_count": 12,
   "id": "b485e4de-fe89-4337-9cc5-1682ed809382",
   "metadata": {},
   "outputs": [],
   "source": [
    "import cv2\n",
    "import numpy as np\n",
    "from PIL import ImageFont, ImageDraw, Image\n",
    "\n",
    "def myPutText(src, text, pos, font_size, font_color) : \n",
    "    img_pil = Image.fromarray(src)\n",
    "    draw = ImageDraw.Draw(img_pil)\n",
    "    font = ImageFont.truetype(\"fonts/gulim.ttc\", font_size)\n",
    "    draw.text(pos, text, font=font, fill=font_color)\n",
    "    return np.array(img_pil)\n",
    "\n",
    "img = np.zeros((480, 640, 3), dtype = np.uint8)\n",
    "\n",
    "FONT_SIZE = 30\n",
    "COLOR = (255, 255, 255) #흰색\n",
    "\n",
    "#cv2.putText(img, '금민준', (20,50),cv2.FONT_HERSHEY_SIMPLEX, SCALE, COLOR, THICKNESS )\n",
    "img = myPutText(img, \"금민준\", (20,50), FONT_SIZE, COLOR) \n",
    "\n",
    "cv2.imshow('img', img)\n",
    "cv2.waitKey(0)\n",
    "cv2.destroyAllWindows()"
   ]
  }
 ],
 "metadata": {
  "kernelspec": {
   "display_name": "Python 3 (ipykernel)",
   "language": "python",
   "name": "python3"
  },
  "language_info": {
   "codemirror_mode": {
    "name": "ipython",
    "version": 3
   },
   "file_extension": ".py",
   "mimetype": "text/x-python",
   "name": "python",
   "nbconvert_exporter": "python",
   "pygments_lexer": "ipython3",
   "version": "3.12.4"
  }
 },
 "nbformat": 4,
 "nbformat_minor": 5
}
