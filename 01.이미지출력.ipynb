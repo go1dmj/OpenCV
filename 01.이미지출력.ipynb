{
 "cells": [
  {
   "cell_type": "markdown",
   "id": "acb6ef3f-40ba-424b-942c-4eba959b6dd1",
   "metadata": {},
   "source": [
    "#환경설정\n",
    "anaconda prompt 에서 다음 명령 수행\n",
    ">pip install opencv-python"
   ]
  },
  {
   "cell_type": "code",
   "execution_count": 1,
   "id": "7201507a-27c0-4647-9ffd-60a8a0de99d4",
   "metadata": {},
   "outputs": [
    {
     "data": {
      "text/plain": [
       "'4.10.0'"
      ]
     },
     "execution_count": 1,
     "metadata": {},
     "output_type": "execute_result"
    }
   ],
   "source": [
    "import cv2\n",
    "cv2.__version__"
   ]
  },
  {
   "cell_type": "markdown",
   "id": "93745b3f-7693-4795-8add-d8066ee52757",
   "metadata": {},
   "source": [
    "#OpenCV (Computer vision) \n",
    "다양한 영상 (이미지) / 동영상 처리에 활용되는 라이브러리"
   ]
  },
  {
   "cell_type": "markdown",
   "id": "f56e77d3-e6bc-4972-aee2-a73c8d240d8e",
   "metadata": {},
   "source": [
    "#1. 이미지 출력"
   ]
  },
  {
   "cell_type": "code",
   "execution_count": 1,
   "id": "a46bd974-20c8-4442-8c07-802496c110c4",
   "metadata": {},
   "outputs": [
    {
     "name": "stdout",
     "output_type": "stream",
     "text": [
      "113\n"
     ]
    }
   ],
   "source": [
    "import cv2\n",
    "img = cv2.imread(\"img.jpg\") # 해당 경로의 파일 읽어오기\n",
    "cv2.imshow('img', img) # img라는 이름의 창에 img를 표시\n",
    "key = cv2.waitKey(0) # 지정된 시간(ms) 동안 사용자 키 입력 대기 ( 0은 무한대를 의미 )\n",
    "print(key)\n",
    "cv2.destroyAllWindows() # 모든 창 닫기"
   ]
  },
  {
   "cell_type": "markdown",
   "id": "fd88674f-dc8d-443d-be4a-71c389b38317",
   "metadata": {},
   "source": [
    "#읽기 옵션\n",
    "1. cv2.IMREAD_COLOR : 컬러 이미지 : 투명 영역은 무시 (기본값)\n",
    "2. cv2.IMREAD_GRAYSCALE : 흑백 이미지\n",
    "3. cv2.IMREAD_UNCHANGED: 투명 영역까지 포함"
   ]
  },
  {
   "cell_type": "code",
   "execution_count": 8,
   "id": "e03e47b8-4091-4c92-92ce-450bdfe744e5",
   "metadata": {},
   "outputs": [],
   "source": [
    "import cv2\n",
    "img_color = cv2.imread(\"img.jpg\", cv2.IMREAD_COLOR)\n",
    "img_gray = cv2.imread(\"img.jpg\", cv2.IMREAD_GRAYSCALE)\n",
    "img_unchanged = cv2.imread(\"img.jpg\", cv2.IMREAD_UNCHANGED)\n",
    "\n",
    "cv2.imshow(\"img_color\", img_color)\n",
    "cv2.imshow(\"img_gray\", img_gray)\n",
    "cv2.imshow(\"img_unchanged\", img_unchanged)\n",
    "\n",
    "cv2.waitKey(0)\n",
    "cv2.destroyAllWindows()"
   ]
  },
  {
   "cell_type": "markdown",
   "id": "1a97da10-1de5-4ed9-87d2-3d1e9b074516",
   "metadata": {},
   "source": [
    "#shape\n",
    "이미지의 height, width, channel 정보"
   ]
  },
  {
   "cell_type": "code",
   "execution_count": 10,
   "id": "f575076b-b7c8-4e84-a1e4-f60d79f3fa59",
   "metadata": {},
   "outputs": [
    {
     "data": {
      "text/plain": [
       "(640, 427, 3)"
      ]
     },
     "execution_count": 10,
     "metadata": {},
     "output_type": "execute_result"
    }
   ],
   "source": [
    "import cv2\n",
    "img = cv2.imread('img.jpg')\n",
    "img.shape #세로, 가로, channel"
   ]
  }
 ],
 "metadata": {
  "kernelspec": {
   "display_name": "Python 3 (ipykernel)",
   "language": "python",
   "name": "python3"
  },
  "language_info": {
   "codemirror_mode": {
    "name": "ipython",
    "version": 3
   },
   "file_extension": ".py",
   "mimetype": "text/x-python",
   "name": "python",
   "nbconvert_exporter": "python",
   "pygments_lexer": "ipython3",
   "version": "3.12.4"
  }
 },
 "nbformat": 4,
 "nbformat_minor": 5
}
