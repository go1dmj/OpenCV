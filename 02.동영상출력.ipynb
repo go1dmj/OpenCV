{
 "cells": [
  {
   "cell_type": "markdown",
   "id": "59c2db58-1a6b-4d52-a0fe-2cbf9556b599",
   "metadata": {},
   "source": [
    "#2.동영상 출력"
   ]
  },
  {
   "cell_type": "markdown",
   "id": "c8c108ee-6cbc-4c61-81d7-67f7d0f7ab89",
   "metadata": {},
   "source": [
    "##동영상 파일 출력 "
   ]
  },
  {
   "cell_type": "code",
   "execution_count": 6,
   "id": "760ef222-bd8a-40c9-8cfb-f66961d1eb2b",
   "metadata": {},
   "outputs": [
    {
     "name": "stdout",
     "output_type": "stream",
     "text": [
      "더 이상 가져올 프레임이 없어요\n"
     ]
    }
   ],
   "source": [
    "import cv2\n",
    "cap = cv2.VideoCapture('video.mp4')\n",
    "\n",
    "while cap.isOpened() : #동영상 파일이 올바로 열렸는지?\n",
    "    ret, frame = cap.read() # ret : 성공 여부, frame : 받아온 이미지 ( 프레임 )\n",
    "    if ret == False : \n",
    "        print(\"더 이상 가져올 프레임이 없어요\")\n",
    "        break\n",
    "    cv2.imshow(\"video\", frame)\n",
    "\n",
    "    if cv2.waitKey(25) == ord('q') : # waiykey값을 변경하면 동영상 속도 변경 가능\n",
    "        print(\"사용자 입력에 의해 종료합니다\")\n",
    "        break\n",
    "\n",
    "cap.release() #자원 해제\n",
    "cv2.destroyAllWindows() #모든 창 닫기"
   ]
  },
  {
   "cell_type": "markdown",
   "id": "38d23bb9-09ea-4657-bab1-80c08a67f613",
   "metadata": {},
   "source": [
    "#카메라 출력"
   ]
  },
  {
   "cell_type": "code",
   "execution_count": 1,
   "id": "690fb1f7-d72d-4904-a782-a2e6e5998d0d",
   "metadata": {},
   "outputs": [],
   "source": [
    "import cv2\n",
    "cap = cv2.VideoCapture(0) #0번째 카메라 장치 ( Device ID )\n",
    "\n",
    "if cap.isOpened() == False : #카메라가 잘 열리지 않은 경우\n",
    "    print(\"카메라가 없어요\")\n",
    "    exit() #프로그램 종료\n",
    "\n",
    "while True : \n",
    "    ret, frame = cap.read()\n",
    "    if ret == False : \n",
    "        break\n",
    "\n",
    "    cv2.imshow(\"camera\", frame)\n",
    "    if cv2.waitKey(25) == ord('q') : \n",
    "        break\n",
    "cap.release()\n",
    "cv2.destroyAllWindows()"
   ]
  }
 ],
 "metadata": {
  "kernelspec": {
   "display_name": "Python 3 (ipykernel)",
   "language": "python",
   "name": "python3"
  },
  "language_info": {
   "codemirror_mode": {
    "name": "ipython",
    "version": 3
   },
   "file_extension": ".py",
   "mimetype": "text/x-python",
   "name": "python",
   "nbconvert_exporter": "python",
   "pygments_lexer": "ipython3",
   "version": "3.12.4"
  }
 },
 "nbformat": 4,
 "nbformat_minor": 5
}
