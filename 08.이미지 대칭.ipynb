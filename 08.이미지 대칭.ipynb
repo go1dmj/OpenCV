{
 "cells": [
  {
   "cell_type": "markdown",
   "id": "c08e8fc9-f555-44fb-81f0-7a39ebc3fe21",
   "metadata": {},
   "source": [
    "#8 이미지 대칭"
   ]
  },
  {
   "cell_type": "markdown",
   "id": "55977fb0-98bd-4e44-8391-73598b277ae9",
   "metadata": {},
   "source": [
    "좌우 대칭"
   ]
  },
  {
   "cell_type": "code",
   "execution_count": 1,
   "id": "0cf9c118-6f21-4bb8-9ad9-3fd8ed107e25",
   "metadata": {},
   "outputs": [],
   "source": [
    "import cv2\n",
    "img = cv2.imread('img.jpg')\n",
    "flip_horizontal = cv2.flip(img, 1) # flipCode > 0 = 좌우대칭 Horizontal\n",
    "\n",
    "cv2.imshow('img', img)\n",
    "cv2.imshow('flip_horizontal', flip_horizontal)\n",
    "cv2.waitKey(0)\n",
    "cv2.destroyAllWindows()"
   ]
  },
  {
   "cell_type": "markdown",
   "id": "4f89c314-6073-4ba6-9982-d939da0a485a",
   "metadata": {},
   "source": [
    "상하 대칭"
   ]
  },
  {
   "cell_type": "code",
   "execution_count": 8,
   "id": "5cf982f1-a6d1-4e74-93be-3b301d2caa1a",
   "metadata": {},
   "outputs": [],
   "source": [
    "import cv2\n",
    "img = cv2.imread('img.jpg')\n",
    "flip_vertical = cv2.flip(img, 0) # flipCode == 0 = 상하대칭 Vertical\n",
    "\n",
    "cv2.imshow('img', img)\n",
    "cv2.imshow('flip_vertical', flip_vertical)\n",
    "cv2.waitKey(0)\n",
    "cv2.destroyAllWindows()"
   ]
  },
  {
   "cell_type": "markdown",
   "id": "3009eb6c-c9e8-4df3-b8c3-ec662540d347",
   "metadata": {},
   "source": [
    "상하좌우대칭"
   ]
  },
  {
   "cell_type": "code",
   "execution_count": 7,
   "id": "2f2c1730-9111-475a-bb2d-3119d92507ae",
   "metadata": {},
   "outputs": [],
   "source": [
    "import cv2\n",
    "img = cv2.imread('img.jpg')\n",
    "flip_both = cv2.flip(img, -1) # flipCode < 0 = 상하좌우 대칭\n",
    "\n",
    "cv2.imshow('img', img)\n",
    "cv2.imshow('flip_both', flip_both)\n",
    "cv2.waitKey(0)\n",
    "cv2.destroyAllWindows()"
   ]
  },
  {
   "cell_type": "code",
   "execution_count": null,
   "id": "8de67b84-3ad4-4944-90dd-4189eb5d77c5",
   "metadata": {},
   "outputs": [],
   "source": []
  }
 ],
 "metadata": {
  "kernelspec": {
   "display_name": "Python 3 (ipykernel)",
   "language": "python",
   "name": "python3"
  },
  "language_info": {
   "codemirror_mode": {
    "name": "ipython",
    "version": 3
   },
   "file_extension": ".py",
   "mimetype": "text/x-python",
   "name": "python",
   "nbconvert_exporter": "python",
   "pygments_lexer": "ipython3",
   "version": "3.12.4"
  }
 },
 "nbformat": 4,
 "nbformat_minor": 5
}
