{
 "cells": [
  {
   "cell_type": "markdown",
   "id": "27eb0af6-9ffa-49f2-bd57-8dbf81d52d70",
   "metadata": {},
   "source": [
    "16. 이미지 변환 ( 열림 & 닫힘 )"
   ]
  },
  {
   "cell_type": "markdown",
   "id": "5cbae956-f9a6-414e-8b16-9725d370bef0",
   "metadata": {},
   "source": [
    "##열림 (Opening) : 침식 후 팽창. 깎아서 노이즈 제거 후 살 찌움"
   ]
  },
  {
   "cell_type": "markdown",
   "id": "28a9057a-9733-49a3-b87d-00018f774f16",
   "metadata": {},
   "source": [
    "- dilate(enrode(image))"
   ]
  },
  {
   "cell_type": "code",
   "execution_count": 4,
   "id": "d89e8352-30a8-4a04-9984-2e7330b704ef",
   "metadata": {},
   "outputs": [],
   "source": [
    "import cv2\n",
    "import numpy as np\n",
    "kernel = np.ones((3,3), dtype = np.uint8)\n",
    "\n",
    "img = cv2.imread('erode.png', cv2.IMREAD_GRAYSCALE)\n",
    "\n",
    "erode = cv2.erode(img, kernel, iterations = 3)\n",
    "dilate = cv2.dilate(erode, kernel, iterations = 3)\n",
    "\n",
    "cv2.imshow('img', img)\n",
    "cv2.imshow('erode', erode)\n",
    "cv2.imshow('dilate', dilate)\n",
    "cv2.waitKey(0)\n",
    "cv2.destroyAllWindows()"
   ]
  },
  {
   "cell_type": "markdown",
   "id": "c0277973-8a7d-4099-bbe7-c708546b1784",
   "metadata": {},
   "source": [
    "##닫힘(Closeing) : 팽창 후 침식, 구멍을 메운 후 다시 깎음"
   ]
  },
  {
   "cell_type": "markdown",
   "id": "2badb375-6c39-4d47-86dd-ef3d633e8617",
   "metadata": {},
   "source": [
    "-erode(dilate(image))"
   ]
  },
  {
   "cell_type": "code",
   "execution_count": 5,
   "id": "51ea8adc-564b-449f-8661-082de36cd27c",
   "metadata": {},
   "outputs": [],
   "source": [
    "import cv2\n",
    "import numpy as np\n",
    "kernel = np.ones((3,3), dtype = np.uint8)\n",
    "\n",
    "img = cv2.imread('dilate.png', cv2.IMREAD_GRAYSCALE)\n",
    "\n",
    "dilate = cv2.dilate(img, kernel, iterations = 3)\n",
    "erode = cv2.erode(dilate, kernel, iterations = 3)\n",
    "\n",
    "cv2.imshow('img', img)\n",
    "cv2.imshow('erode', erode)\n",
    "cv2.imshow('dilate', dilate)\n",
    "cv2.waitKey(0)\n",
    "cv2.destroyAllWindows()"
   ]
  }
 ],
 "metadata": {
  "kernelspec": {
   "display_name": "Python 3 (ipykernel)",
   "language": "python",
   "name": "python3"
  },
  "language_info": {
   "codemirror_mode": {
    "name": "ipython",
    "version": 3
   },
   "file_extension": ".py",
   "mimetype": "text/x-python",
   "name": "python",
   "nbconvert_exporter": "python",
   "pygments_lexer": "ipython3",
   "version": "3.12.4"
  }
 },
 "nbformat": 4,
 "nbformat_minor": 5
}
