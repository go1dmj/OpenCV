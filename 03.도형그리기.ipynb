{
 "cells": [
  {
   "cell_type": "markdown",
   "id": "6a87fe5c-1d7b-42c9-9961-395eb69f1334",
   "metadata": {},
   "source": [
    "3. 도형 그리기"
   ]
  },
  {
   "cell_type": "markdown",
   "id": "6c4eec96-bc4d-4a00-8964-cfd02a08d426",
   "metadata": {},
   "source": [
    "#빈 스케치북 만들기"
   ]
  },
  {
   "cell_type": "code",
   "execution_count": 8,
   "id": "c5de075a-cd8d-4bb6-a2de-a6e48b7ed4c7",
   "metadata": {
    "scrolled": true
   },
   "outputs": [],
   "source": [
    "import cv2\n",
    "import numpy as np\n",
    "\n",
    "# 세로 480 x 가로 640, 3channel(RGB)에 해당하는 스케치북\n",
    "img = np.zeros((480,640,3), dtype = np.uint8)\n",
    "#img[:] = (255, 255, 255) # 색깔 바꾸기 ( BGR )\n",
    "\n",
    "\n",
    "cv2.imshow('img', img)\n",
    "cv2.waitKey(0)\n",
    "cv2.destroyAllWindows()"
   ]
  },
  {
   "cell_type": "markdown",
   "id": "766cf467-e3e3-4e89-a686-e95c66e51d38",
   "metadata": {},
   "source": [
    "#일부 영역 색칠"
   ]
  },
  {
   "cell_type": "code",
   "execution_count": 10,
   "id": "791fac78-297d-4e87-966d-838a3213d4ee",
   "metadata": {},
   "outputs": [],
   "source": [
    "import cv2\n",
    "import numpy as np\n",
    "\n",
    "img = np.zeros((480,640,3), dtype = np.uint8)\n",
    "img[100:200, 200:300] = (255, 255, 255)\n",
    "#[세로 영역, 가로 영역]\n",
    "\n",
    "cv2.imshow('img', img)\n",
    "cv2.waitKey(0)\n",
    "cv2.destroyAllWindows()"
   ]
  },
  {
   "cell_type": "markdown",
   "id": "b8c86fea-e6e2-4888-88db-457bee86b4cb",
   "metadata": {},
   "source": [
    "#직선\n",
    "\n",
    "직선의 종류 ( line type )\n",
    "1. cv2. LINE_4 : 상하좌우 4 방향으로 연결된 선\n",
    "2. cv2. LINE_8 : 대각선을 포함한 8 방향으로 연결된 선 (기본값)\n",
    "3. cv2. LINE_AA : 부드러운 선 (anti-aliasing)"
   ]
  },
  {
   "cell_type": "code",
   "execution_count": 13,
   "id": "f31ccf47-2c2d-4683-8c15-16d20fc9a9dd",
   "metadata": {},
   "outputs": [],
   "source": [
    "import cv2\n",
    "import numpy as np\n",
    "\n",
    "img = np.zeros((480,640,3), dtype = np.uint8)\n",
    "\n",
    "COLOR = (0,255,255) #BGR , 색\n",
    "THICKNESS = 3 # 두께\n",
    "\n",
    "cv2.line(img, (50,100), (400, 50), COLOR, THICKNESS, cv2.LINE_8)\n",
    "# 그릴 위치, 시작점, 끝점, 색깔, 두께, 선 종류\n",
    "cv2.line(img, (50,200), (400, 150), COLOR, THICKNESS, cv2.LINE_4)\n",
    "cv2.line(img, (50,300), (400, 250), COLOR, THICKNESS, cv2.LINE_AA)\n",
    "\n",
    "cv2.imshow('img', img)\n",
    "cv2.waitKey(0)\n",
    "cv2.destroyAllWindows()"
   ]
  },
  {
   "cell_type": "markdown",
   "id": "ba7e4f9e-9628-4c9f-aa7c-d612f3bdc767",
   "metadata": {},
   "source": [
    "#원"
   ]
  },
  {
   "cell_type": "code",
   "execution_count": 15,
   "id": "cfc6fec2-b9e7-47e2-9099-f5b02c68c4fb",
   "metadata": {},
   "outputs": [],
   "source": [
    "import cv2\n",
    "import numpy as np\n",
    "\n",
    "img = np.zeros((480,640,3), dtype = np.uint8)\n",
    "\n",
    "COLOR = (0,0,255) #BGR , 색\n",
    "THICKNESS = 10 # 두께\n",
    "\n",
    "\n",
    "\n",
    "cv2.imshow('img', img)\n",
    "cv2.waitKey(0)\n",
    "cv2.destroyAllWindows()"
   ]
  },
  {
   "cell_type": "markdown",
   "id": "9bcf1476-9251-44b8-8759-e93ad4f434bc",
   "metadata": {},
   "source": [
    "#사각형"
   ]
  },
  {
   "cell_type": "code",
   "execution_count": 19,
   "id": "be0bd40e-9294-4d23-ac09-c92967e2542e",
   "metadata": {},
   "outputs": [],
   "source": [
    "import cv2\n",
    "import numpy as np\n",
    "\n",
    "img = np.zeros((480,640,3), dtype = np.uint8)\n",
    "\n",
    "COLOR = (0,255,0) #BGR , 색\n",
    "THICKNESS = 3 # 두께\n",
    "\n",
    "cv2.rectangle(img, (100, 100), (200,200), COLOR, THICKNESS) #속이 빈 사각형\n",
    "#그릴 위치, 왼쪽 위 좌표, 오른쪽 아래 좌표, 색깔, 두께\n",
    "cv2.rectangle(img, (300, 300), (400,400), COLOR, cv2.FILLED) #속이 찬 사각형\n",
    "\n",
    "cv2.imshow('img', img)\n",
    "cv2.waitKey(0)\n",
    "cv2.destroyAllWindows()"
   ]
  },
  {
   "cell_type": "markdown",
   "id": "a946a9a8-a9ed-4ac4-a0db-557e26a30980",
   "metadata": {},
   "source": [
    "#다각형"
   ]
  },
  {
   "cell_type": "code",
   "execution_count": 30,
   "id": "5821aef5-e1e6-47a3-bc33-6bf93d32ab25",
   "metadata": {},
   "outputs": [],
   "source": [
    "import cv2\n",
    "import numpy as np\n",
    "\n",
    "img = np.zeros((480,640,3), dtype = np.uint8)\n",
    "\n",
    "COLOR = (0,0,255) #BGR , 색\n",
    "THICKNESS = 3 # 두께\n",
    "\n",
    "pts1 = np.array([[100, 100],[200, 100],[100, 200]])\n",
    "pts2 = np.array([[200,100],[300,100],[300,200]])\n",
    "\n",
    "#cv2.polylines(img, [pts1], True, COLOR, THICKNESS, cv2.LINE_AA)\n",
    "#cv2.polylines(img, [pts2], True, COLOR, THICKNESS, cv2.LINE_AA)\n",
    "cv2.polylines(img, [pts1, pts2], True, COLOR, THICKNESS, cv2.LINE_AA) #속이 빈 다각형\n",
    "#그릴 위치, 그릴 좌표들, 닫힘 여부, 색깔, 두께, 선 종류\n",
    "\n",
    "pts3 = np.array([[[100,300],[200,300],[100,400]], [[200, 300],[300, 300],[300, 400]]])\n",
    "cv2.fillPoly(img, pts3, COLOR, cv2.LINE_AA)\n",
    "#그릴 위치, 그릴 좌표들, 색깔, 선 종류\n",
    "\n",
    "cv2.imshow('img', img)\n",
    "cv2.waitKey(0)\n",
    "cv2.destroyAllWindows()"
   ]
  }
 ],
 "metadata": {
  "kernelspec": {
   "display_name": "Python 3 (ipykernel)",
   "language": "python",
   "name": "python3"
  },
  "language_info": {
   "codemirror_mode": {
    "name": "ipython",
    "version": 3
   },
   "file_extension": ".py",
   "mimetype": "text/x-python",
   "name": "python",
   "nbconvert_exporter": "python",
   "pygments_lexer": "ipython3",
   "version": "3.12.4"
  }
 },
 "nbformat": 4,
 "nbformat_minor": 5
}
