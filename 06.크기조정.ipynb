{
 "cells": [
  {
   "cell_type": "markdown",
   "id": "9510e35f-1d22-43cf-9e94-5999cfb185db",
   "metadata": {},
   "source": [
    "#6. 크기 조정"
   ]
  },
  {
   "cell_type": "markdown",
   "id": "4a3a9a26-1942-4b0c-9d33-b66b7f3696d9",
   "metadata": {},
   "source": [
    "이미지"
   ]
  },
  {
   "cell_type": "markdown",
   "id": "dfd40a53-20c9-4af9-a722-c54a48fa020a",
   "metadata": {},
   "source": [
    "고정 크기로 설정"
   ]
  },
  {
   "cell_type": "code",
   "execution_count": 1,
   "id": "b67a1d75-896c-49b1-85e3-79a50825db92",
   "metadata": {},
   "outputs": [],
   "source": [
    "import cv2\n",
    "img = cv2.imread('img.jpg')\n",
    "dst = cv2.resize(img, (400, 500)) # width, height 고정 크기\n",
    "\n",
    "cv2.imshow(\"img\", img)\n",
    "cv2.imshow(\"resize\", dst)\n",
    "cv2.waitKey(0)\n",
    "cv2.destroyAllWindows()"
   ]
  },
  {
   "cell_type": "markdown",
   "id": "f9c1fc33-2ab5-468f-bf46-8cf87eff2c83",
   "metadata": {},
   "source": [
    "비율로 설정"
   ]
  },
  {
   "cell_type": "code",
   "execution_count": 4,
   "id": "bb9d1cc8-5622-4693-91fb-af43dbd34027",
   "metadata": {},
   "outputs": [],
   "source": [
    "import cv2\n",
    "img = cv2.imread('img.jpg')\n",
    "dst = cv2.resize(img, None, fx = 1.3, fy = 1.3) # x,y 비율 정의 \n",
    "\n",
    "cv2.imshow(\"img\", img)\n",
    "cv2.imshow(\"resize\", dst)\n",
    "cv2.waitKey(0)\n",
    "cv2.destroyAllWindows()"
   ]
  },
  {
   "cell_type": "markdown",
   "id": "0e7d626f-a046-49e0-aad8-b0953ebec5a9",
   "metadata": {},
   "source": [
    "#보간법\n",
    "1. cv2.INTER_AREA : 크기 줄일 때 사용\n",
    "2. cv2.INTER_CUBIC : 크기 늘릴 때 사용 ( 속도 오래 걸림 )\n",
    "3. cv2.INTER_LINEAR : 크기 늘릴 때 사용"
   ]
  },
  {
   "cell_type": "markdown",
   "id": "f53f6fe8-a1f0-4fd9-80e0-b718cb5462db",
   "metadata": {},
   "source": [
    "보간법 적용 후 축소"
   ]
  },
  {
   "cell_type": "code",
   "execution_count": 7,
   "id": "aacd5b59-7fa6-4690-ada5-9d26cb640fdd",
   "metadata": {},
   "outputs": [],
   "source": [
    "import cv2\n",
    "img = cv2.imread('img.jpg')\n",
    "dst = cv2.resize(img, None, fx = 0.5, fy = 0.5, interpolation = cv2.INTER_AREA) # x,y 비율 정의 \n",
    "\n",
    "cv2.imshow(\"img\", img)\n",
    "cv2.imshow(\"resize\", dst)\n",
    "cv2.waitKey(0)\n",
    "cv2.destroyAllWindows()"
   ]
  },
  {
   "cell_type": "markdown",
   "id": "daae0728-39dd-44f2-a985-f7c839bcc15d",
   "metadata": {},
   "source": [
    "보간법 적용하여 확대"
   ]
  },
  {
   "cell_type": "code",
   "execution_count": 8,
   "id": "ec111f00-da1f-4892-8623-3669ec45606f",
   "metadata": {},
   "outputs": [],
   "source": [
    "import cv2\n",
    "img = cv2.imread('img.jpg')\n",
    "dst = cv2.resize(img, None, fx = 1.5, fy = 1.5, interpolation = cv2.INTER_CUBIC) # x,y 비율 정의 \n",
    "\n",
    "cv2.imshow(\"img\", img)\n",
    "cv2.imshow(\"resize\", dst)\n",
    "cv2.waitKey(0)\n",
    "cv2.destroyAllWindows()"
   ]
  },
  {
   "cell_type": "markdown",
   "id": "26a98fad-25bc-4bb1-96e3-ff9e9a3ca3dc",
   "metadata": {},
   "source": [
    "#동영상"
   ]
  },
  {
   "cell_type": "markdown",
   "id": "a5470a0d-7c31-42fa-a69c-295eb76e8764",
   "metadata": {},
   "source": [
    "고정 크기로 설정"
   ]
  },
  {
   "cell_type": "code",
   "execution_count": 2,
   "id": "a92bd1c7-5fd7-476d-af12-a71127fac518",
   "metadata": {},
   "outputs": [],
   "source": [
    "import cv2\n",
    "cap = cv2.VideoCapture('video.mp4')\n",
    "\n",
    "while cap.isOpened() : \n",
    "    ret , frame = cap.read()\n",
    "    if not ret : \n",
    "        break\n",
    "\n",
    "    frame_resized = cv2.resize(frame, (400,500))\n",
    "    \n",
    "    cv2.imshow('video', frame_resized)\n",
    "    if cv2.waitKey(1) == ord('q') :\n",
    "        break\n",
    "\n",
    "cap.release()\n",
    "cv2.destroyAllWindows()"
   ]
  },
  {
   "cell_type": "markdown",
   "id": "3ea6d0cb-6742-43f3-800f-7a9e590c7af8",
   "metadata": {},
   "source": [
    "비율로 설정"
   ]
  },
  {
   "cell_type": "code",
   "execution_count": 3,
   "id": "de1007c1-57a5-4689-b0eb-a854285989e1",
   "metadata": {},
   "outputs": [],
   "source": [
    "import cv2\n",
    "cap = cv2.VideoCapture('video.mp4')\n",
    "\n",
    "while cap.isOpened() : \n",
    "    ret , frame = cap.read()\n",
    "    if not ret : \n",
    "        break\n",
    "\n",
    "    frame_resized = cv2.resize(frame, None, fx = 1.5, fy = 1.5, interpolation = cv2.INTER_CUBIC)\n",
    "    \n",
    "    cv2.imshow('video', frame_resized)\n",
    "    if cv2.waitKey(1) == ord('q') :\n",
    "        break\n",
    "\n",
    "cap.release()\n",
    "cv2.destroyAllWindows()"
   ]
  }
 ],
 "metadata": {
  "kernelspec": {
   "display_name": "Python 3 (ipykernel)",
   "language": "python",
   "name": "python3"
  },
  "language_info": {
   "codemirror_mode": {
    "name": "ipython",
    "version": 3
   },
   "file_extension": ".py",
   "mimetype": "text/x-python",
   "name": "python",
   "nbconvert_exporter": "python",
   "pygments_lexer": "ipython3",
   "version": "3.12.4"
  }
 },
 "nbformat": 4,
 "nbformat_minor": 5
}
