{
 "cells": [
  {
   "cell_type": "markdown",
   "id": "fdf32c5c-7160-447a-aa4d-2cca9579a621",
   "metadata": {},
   "source": [
    "12. 이미지 변형 ( 원근 )"
   ]
  },
  {
   "cell_type": "markdown",
   "id": "7c0866dd-f73f-4e1c-957b-9c520342bcb6",
   "metadata": {},
   "source": [
    "사다리꼴 이미지 펼치기"
   ]
  },
  {
   "cell_type": "code",
   "execution_count": 5,
   "id": "219e6929-b2c7-49fc-8dae-bd974e5d5538",
   "metadata": {},
   "outputs": [],
   "source": [
    "import cv2\n",
    "import numpy as np\n",
    "img = cv2.imread('newspaper.jpg')\n",
    "\n",
    "width, height = 640, 240 #가로, 세로 640 x 240크기로 결과물 출력\n",
    "\n",
    "src = np.array([[511,352],[1008,345],[1122,584],[455,594]], dtype = np.float32)\n",
    "dst = np.array([[0,0],[width,0],[width, height],[0,height]],dtype = np.float32)\n",
    "\n",
    "matrix = cv2.getPerspectiveTransform(src, dst) #matrix를 얻어옴\n",
    "result = cv2.warpPerspective(img, matrix, (width, height)) #matrix대로 변환\n",
    "\n",
    "cv2.imshow('img', img)\n",
    "cv2.imshow('result', result)\n",
    "cv2.waitKey(0)\n",
    "cv2.destroyAllWindows()"
   ]
  },
  {
   "cell_type": "markdown",
   "id": "ade738ed-5bd3-4d3f-808f-ce674b88a35f",
   "metadata": {},
   "source": [
    "회전된 이미지 올바로 세우기"
   ]
  },
  {
   "cell_type": "code",
   "execution_count": 2,
   "id": "905b3e37-15c8-4063-af5d-09ef4e7a7ce6",
   "metadata": {},
   "outputs": [],
   "source": [
    "import cv2\n",
    "import numpy as np\n",
    "img = cv2.imread('poker.jpg')\n",
    "\n",
    "width, height = 530, 710\n",
    "\n",
    "src = np.array([[702,143],[1133,414],[726,1007],[276, 700]], dtype = np.float32)\n",
    "dst = np.array([[0,0],[width,0],[width, height],[0,height]],dtype = np.float32)\n",
    "#좌상, 우상, 우하 ,좌하 ( 시계 방향으로 4 지점 정의\n",
    "\n",
    "matrix = cv2.getPerspectiveTransform(src, dst) #matrix를 얻어옴\n",
    "result = cv2.warpPerspective(img, matrix, (width, height)) #matrix대로 변환\n",
    "\n",
    "cv2.imshow('img', img)\n",
    "cv2.imshow('result', result)\n",
    "cv2.waitKey(0)\n",
    "cv2.destroyAllWindows()"
   ]
  },
  {
   "cell_type": "markdown",
   "id": "789502a0-dae7-4c52-b260-cfd2c047f57a",
   "metadata": {},
   "source": [
    "미니 프로젝트 : 반자동 문서 스캐너"
   ]
  },
  {
   "cell_type": "markdown",
   "id": "cd312ffd-8e36-4538-a510-7cb849c29b77",
   "metadata": {},
   "source": [
    "#마우스 이벤트 등록"
   ]
  },
  {
   "cell_type": "code",
   "execution_count": null,
   "id": "bf7ac5b1-4036-4547-a1c6-2d582a2d8847",
   "metadata": {},
   "outputs": [],
   "source": [
    "import cv2 \n",
    "\n",
    "def mouse_handler(event, x, y, flags, param) :\n",
    "    if event == cv2.EVENT_LBUTTONDOWN : # 마우스 왼쪽 버튼 누름\n",
    "        print(\"왼쪽 버튼 Down\")\n",
    "        print(x,y)\n",
    "    elif event ==  cv2.EVENT_LBUTTONUP :# 마우스 왼쪽 버튼 뗌\n",
    "        print(\"왼쪽 버튼 Up\")\n",
    "        print(x,y)\n",
    "    elif event == cv2.EVENT_LBUTTONDBLCLK : #마우스 왼쪽 더블 클릭\n",
    "        print(\"왼쪽 버튼 Double Click\")\n",
    "    \"\"\"elif event == cv2.EVENT_MOUSEMOVE : #마우스 이동\n",
    "        print(\"마우스 이동\")\"\"\"\n",
    "\n",
    "img = cv2.imread('poker.jpg')\n",
    "\n",
    "cv2.namedWindow('img') # img란 이름의 윈도우를 먼저 만들어 두는 것임. 여기에 마우스 이벤트를 처리하기 위한 핸들러 적용\n",
    "cv2.setMouseCallback('img', mouse_handler)\n",
    "\n",
    "cv2.imshow('img', img)\n",
    "cv2.waitKey(0)\n",
    "cv2.destroyAllWindows()"
   ]
  },
  {
   "cell_type": "markdown",
   "id": "cf7d1e8f-713f-4c30-bb98-d409c496554c",
   "metadata": {},
   "source": [
    "###Project Code "
   ]
  },
  {
   "cell_type": "code",
   "execution_count": 19,
   "id": "9ebbc08c-5ad0-469d-8a3f-4e17c3fe3b79",
   "metadata": {},
   "outputs": [],
   "source": [
    "import cv2\n",
    "import numpy as np\n",
    "\n",
    "point_list = []\n",
    "src_img = cv2.imread(\"poker.jpg\")\n",
    "\n",
    "COLOR = (255, 0 ,255) # 핑크\n",
    "THICKNESS = 3\n",
    "drawing = False # 선을 그릴지 여부\n",
    "\n",
    "def mouse_handler(event, x, y, flags, param) :\n",
    "    global drawing\n",
    "    dst_img = src_img.copy()\n",
    "    \n",
    "    if event == cv2.EVENT_LBUTTONDOWN : # 마우스 왼쪽 버튼 누름\n",
    "        drawing = True # 선을 그리기 시작\n",
    "        point_list.append((x,y))\n",
    "\n",
    "    if drawing : \n",
    "        prev_point = None #직선의 시작점\n",
    "        for point in point_list : \n",
    "            cv2.circle(dst_img, point, 15, COLOR, cv2.FILLED)\n",
    "\n",
    "            if prev_point : \n",
    "                cv2.line(dst_img, prev_point, point, COLOR, THICKNESS, cv2.LINE_AA)\n",
    "            prev_point = point\n",
    "        next_point = (x,y)\n",
    "        if len(point_list) == 4 : \n",
    "            show_result() # 결과 출력\n",
    "            next_point = point_list[0]\n",
    "        cv2.line(dst_img, prev_point, next_point, COLOR, THICKNESS, cv2.LINE_AA)\n",
    "\n",
    "    cv2.imshow('img', dst_img) #계속 덮어 씌움\n",
    "\n",
    "def show_result() : \n",
    "    width, height = 530, 710\n",
    "\n",
    "    src = np.float32(point_list)\n",
    "    dst = np.array([[0,0],[width,0],[width, height],[0,height]],dtype = np.float32)\n",
    "\n",
    "    matrix = cv2.getPerspectiveTransform(src, dst) #matrix를 얻어옴\n",
    "    result = cv2.warpPerspective(src_img, matrix, (width, height)) #matrix대로 변환\n",
    "\n",
    "    cv2.imshow(\"result\", result)\n",
    "\n",
    "\n",
    "cv2.namedWindow('img') # img란 이름의 윈도우를 먼저 만들어 두는 것임. 여기에 마우스 이벤트를 처리하기 위한 핸들러 적용\n",
    "cv2.setMouseCallback('img', mouse_handler)\n",
    "\n",
    "cv2.imshow('img', src_img)\n",
    "cv2.waitKey(0)\n",
    "cv2.destroyAllWindows()"
   ]
  }
 ],
 "metadata": {
  "kernelspec": {
   "display_name": "Python 3 (ipykernel)",
   "language": "python",
   "name": "python3"
  },
  "language_info": {
   "codemirror_mode": {
    "name": "ipython",
    "version": 3
   },
   "file_extension": ".py",
   "mimetype": "text/x-python",
   "name": "python",
   "nbconvert_exporter": "python",
   "pygments_lexer": "ipython3",
   "version": "3.12.4"
  }
 },
 "nbformat": 4,
 "nbformat_minor": 5
}
