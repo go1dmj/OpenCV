{
 "cells": [
  {
   "cell_type": "markdown",
   "id": "718974da-2227-4ab5-85ea-1f889c79ec6b",
   "metadata": {},
   "source": [
    "#5. 파일저장"
   ]
  },
  {
   "cell_type": "markdown",
   "id": "bef1a83d-26cd-47b9-a64b-568746ae93d2",
   "metadata": {},
   "source": [
    "#이미지 저장"
   ]
  },
  {
   "cell_type": "code",
   "execution_count": 2,
   "id": "1dc61500-a860-469b-b85e-8411823a2d98",
   "metadata": {},
   "outputs": [
    {
     "name": "stdout",
     "output_type": "stream",
     "text": [
      "True\n"
     ]
    }
   ],
   "source": [
    "import cv2\n",
    "img = cv2.imread('img.jpg', cv2.IMREAD_GRAYSCALE) #흑백으로 이미지 불러오기\n",
    "\n",
    "cv2.imshow('img', img)\n",
    "cv2.waitKey(0)\n",
    "cv2.destroyAllWindows() \n",
    "\n",
    "result = cv2.imwrite('img_save.jpg', img)\n",
    "print(result)\n"
   ]
  },
  {
   "cell_type": "markdown",
   "id": "8a9eeea8-ef1c-483a-a866-d8c02a913020",
   "metadata": {},
   "source": [
    "저장 포멧(jpg, png)"
   ]
  },
  {
   "cell_type": "code",
   "execution_count": 4,
   "id": "52cc0d34-940c-4552-aefd-a4bc9ea9e160",
   "metadata": {},
   "outputs": [],
   "source": [
    "import cv2\n",
    "img = cv2.imread('img.jpg', cv2.IMREAD_GRAYSCALE) #흑백으로 이미지 불러오기\n",
    "result = cv2.imwrite('img_save.png', img) #png 형태로 저장"
   ]
  },
  {
   "cell_type": "markdown",
   "id": "f7feb922-a3b6-4632-9d47-739529ec7696",
   "metadata": {},
   "source": [
    "#동영상 저장"
   ]
  },
  {
   "cell_type": "code",
   "execution_count": 9,
   "id": "193e243c-1833-4af5-8313-73d4111c69a8",
   "metadata": {},
   "outputs": [],
   "source": [
    "import cv2\n",
    "cap = cv2.VideoCapture(\"video.mp4\")\n",
    "\n",
    "#코덱정의\n",
    "fourcc = cv2.VideoWriter_fourcc(*'DIVX')\n",
    "\n",
    "#프레임 크기, FPS\n",
    "width = round(cap.get(cv2.CAP_PROP_FRAME_WIDTH))\n",
    "height = round(cap.get(cv2.CAP_PROP_FRAME_HEIGHT))\n",
    "fps = cap.get(cv2.CAP_PROP_FPS)\n",
    "\n",
    "out = cv2.VideoWriter(\"output.avi\", fourcc, fps x 4, (width, height))\n",
    "#저장 파일명, 코덱, FPS, 크기, (width, height)\n",
    "\n",
    "while cap.isOpened() : \n",
    "    ret , frame = cap.read()\n",
    "    if ret == False : \n",
    "        break\n",
    "\n",
    "    out.write(frame) #영상 데이터만 저장 ( 소리 X )\n",
    "    cv2.imshow(\"video\", frame)\n",
    "    if cv2.waitKey(1) == ord('q') :\n",
    "        break\n",
    "\n",
    "\n",
    "out.release() #자원 해제\n",
    "cap.release()\n",
    "cv2.destroyAllWindows()"
   ]
  },
  {
   "cell_type": "code",
   "execution_count": 7,
   "id": "3677f92a-9562-4fc4-8107-1c18b883a034",
   "metadata": {},
   "outputs": [
    {
     "name": "stdout",
     "output_type": "stream",
     "text": [
      "DIVX\n",
      "D I V X\n",
      "['DIVX']\n",
      "['D', 'I', 'V', 'X']\n"
     ]
    }
   ],
   "source": [
    "#codec = 'DIVX'\n",
    "#print(codec)\n",
    "#print(*codec)\n",
    "#print([codec])\n",
    "#print([*codec])"
   ]
  }
 ],
 "metadata": {
  "kernelspec": {
   "display_name": "Python 3 (ipykernel)",
   "language": "python",
   "name": "python3"
  },
  "language_info": {
   "codemirror_mode": {
    "name": "ipython",
    "version": 3
   },
   "file_extension": ".py",
   "mimetype": "text/x-python",
   "name": "python",
   "nbconvert_exporter": "python",
   "pygments_lexer": "ipython3",
   "version": "3.12.4"
  }
 },
 "nbformat": 4,
 "nbformat_minor": 5
}
